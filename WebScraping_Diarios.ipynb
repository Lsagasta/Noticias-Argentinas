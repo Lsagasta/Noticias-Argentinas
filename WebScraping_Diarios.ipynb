{
  "nbformat": 4,
  "nbformat_minor": 0,
  "metadata": {
    "colab": {
      "provenance": [],
      "authorship_tag": "ABX9TyPgzT2qg3tdllio5paDStnX",
      "include_colab_link": true
    },
    "kernelspec": {
      "name": "python3",
      "display_name": "Python 3"
    },
    "language_info": {
      "name": "python"
    }
  },
  "cells": [
    {
      "cell_type": "markdown",
      "metadata": {
        "id": "view-in-github",
        "colab_type": "text"
      },
      "source": [
        "<a href=\"https://colab.research.google.com/github/Lsagasta/Noticias-Argentinas/blob/master/WebScraping_Diarios.ipynb\" target=\"_parent\"><img src=\"https://colab.research.google.com/assets/colab-badge.svg\" alt=\"Open In Colab\"/></a>"
      ]
    },
    {
      "cell_type": "code",
      "execution_count": 30,
      "metadata": {
        "id": "JiiZW-0NYFT2",
        "colab": {
          "base_uri": "https://localhost:8080/"
        },
        "outputId": "edcfb0e1-c60b-48b8-d68e-a0d344ca3c6a"
      },
      "outputs": [
        {
          "output_type": "stream",
          "name": "stdout",
          "text": [
            "Los títulos de las noticias se han guardado en el archivo 'titulos_noticias.csv'.\n"
          ]
        }
      ],
      "source": [
        "import requests\n",
        "from bs4 import BeautifulSoup\n",
        "import csv\n",
        "from datetime import datetime\n",
        "\n",
        "url = \"https://www.infobae.com/?noredirect\"\n",
        "\n",
        "\n",
        "# Realizar la solicitud HTTP\n",
        "response = requests.get(url)\n",
        "\n",
        "# Crear el objeto BeautifulSoup\n",
        "soup = BeautifulSoup(response.content, \"html.parser\")\n",
        "\n",
        "# Encontrar todas las noticias en la página principal\n",
        "noticias = soup.find_all(\"h2\", class_=\"d23-story-card-hl\")\n",
        "\n",
        "# Crear el archivo CSV\n",
        "csv_file = open(\"titulos_noticias.csv\", \"w\", newline=\"\", encoding=\"utf-8\")\n",
        "csv_writer = csv.writer(csv_file)\n",
        "csv_writer.writerow([\"id\", \"Fecha\",\"Noticia\"])\n",
        "\n",
        "# Guardar los títulos en el archivo CSV\n",
        "for i, noticia in enumerate(noticias, 1):\n",
        "    fecha = datetime.now().strftime(\"%Y-%m-%d %H:%M:%S\")\n",
        "    titulo = noticia.text.strip()\n",
        "    csv_writer.writerow([i, fecha,titulo])\n",
        "\n",
        "# Cerrar el archivo CSV\n",
        "csv_file.close()\n",
        "\n",
        "print(\"Los títulos de las noticias se han guardado en el archivo 'titulos_noticias.csv'.\")\n",
        "\n",
        "\n",
        "\n"
      ]
    }
  ]
}